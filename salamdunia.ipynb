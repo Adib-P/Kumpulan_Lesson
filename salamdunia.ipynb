{
  "nbformat": 4,
  "nbformat_minor": 0,
  "metadata": {
    "colab": {
      "provenance": [],
      "authorship_tag": "ABX9TyNvsxhzs9uopg5xlQxe987O",
      "include_colab_link": true
    },
    "kernelspec": {
      "name": "python3",
      "display_name": "Python 3"
    },
    "language_info": {
      "name": "python"
    }
  },
  "cells": [
    {
      "cell_type": "markdown",
      "metadata": {
        "id": "view-in-github",
        "colab_type": "text"
      },
      "source": [
        "<a href=\"https://colab.research.google.com/github/Adib-P/Kumpulan_Lesson/blob/main/salamdunia.ipynb\" target=\"_parent\"><img src=\"https://colab.research.google.com/assets/colab-badge.svg\" alt=\"Open In Colab\"/></a>"
      ]
    },
    {
      "cell_type": "code",
      "execution_count": 18,
      "metadata": {
        "id": "AZFCMM5JkEG5",
        "colab": {
          "base_uri": "https://localhost:8080/"
        },
        "outputId": "dfd559a2-a110-4c4e-bad0-5dedb77e7962"
      },
      "outputs": [
        {
          "output_type": "stream",
          "name": "stdout",
          "text": [
            "Halo Siapa namamu?Adib\n",
            "Halo, Adib \n",
            "Senang berjumpa denganmu.\n",
            "Ayo kita belajar Python bersama-sama\n"
          ]
        }
      ],
      "source": [
        "nama = input(\"Halo Siapa namamu?\")\n",
        "print(\"Halo,\", nama, \"\\nSenang berjumpa denganmu.\\nAyo kita belajar Python bersama-sama\")"
      ]
    }
  ]
}